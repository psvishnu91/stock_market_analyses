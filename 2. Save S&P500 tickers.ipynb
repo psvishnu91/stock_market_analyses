{
 "cells": [
  {
   "cell_type": "code",
   "execution_count": 1,
   "metadata": {},
   "outputs": [
    {
     "data": {
      "text/html": [
       "<style>.container { width:100% !important; }</style>"
      ],
      "text/plain": [
       "<IPython.core.display.HTML object>"
      ]
     },
     "metadata": {},
     "output_type": "display_data"
    }
   ],
   "source": [
    "%matplotlib inline\n",
    "%load_ext autoreload\n",
    "%autoreload 2\n",
    "\n",
    "import json\n",
    "import requests\n",
    "import os\n",
    "import pandas as pd\n",
    "import pandas_datareader.data as web\n",
    "import datetime as dt\n",
    "\n",
    "import bs4 as bs\n",
    "\n",
    "from tqdm import tqdm_notebook\n",
    "from typing import List\n",
    "from typing import Optional\n",
    "# Notebook rubbish\n",
    "from IPython.core.display import display, HTML\n",
    "display(HTML(\"<style>.container { width:100% !important; }</style>\"))"
   ]
  },
  {
   "cell_type": "code",
   "execution_count": 35,
   "metadata": {},
   "outputs": [],
   "source": [
    "from constants import START\n",
    "from constants import END\n",
    "from constants import STK_DIR\n",
    "from constants import SNP_TICKERS_PATH\n",
    "from constants import PRICE_HIST_PATH"
   ]
  },
  {
   "cell_type": "code",
   "execution_count": 37,
   "metadata": {},
   "outputs": [],
   "source": [
    "from shared import df_from_csv\n",
    "from shared import load_json"
   ]
  },
  {
   "cell_type": "markdown",
   "metadata": {},
   "source": [
    "### Save and load S&P tickers"
   ]
  },
  {
   "cell_type": "code",
   "execution_count": 18,
   "metadata": {},
   "outputs": [],
   "source": [
    "def load_snp500_tickers(path: str, force: bool) -> List[str]:\n",
    "    if os.path.exists(path) and not force:\n",
    "        return load_json(path)\n",
    "    resp = requests.request(url='https://en.wikipedia.org/wiki/List_of_S%26P_500_companies', method='get')\n",
    "    soup = bs.BeautifulSoup(resp.text)\n",
    "    table = soup.find('table', {'class': \"wikitable sortable\"})\n",
    "    tickers = sorted(\n",
    "        # First column is the ticker column\n",
    "        row.findAll('td')[0].text.strip()\n",
    "        # Remove header row\n",
    "        for row in table.findAll('tr')[1:]\n",
    "    )\n",
    "    with open(path, 'w') as outfile:\n",
    "        json.dump(fp=outfile, obj=tickers)\n",
    "    return tickers"
   ]
  },
  {
   "cell_type": "markdown",
   "metadata": {},
   "source": [
    "### Download price history of stocks in S&P500"
   ]
  },
  {
   "cell_type": "code",
   "execution_count": null,
   "metadata": {},
   "outputs": [],
   "source": [
    "def save_tickers_from_yahoo(tickers: List[str], stock_dir: str, force: str, start_dt: dt.date, end_dt: dt.date) -> None:\n",
    "    if not os.path.exists(stock_dir):\n",
    "        os.makedirs(stock_dir)\n",
    "    skipped = []\n",
    "    for t in tqdm_notebook(tickers):\n",
    "        maybe_df = save_single_ticker_from_yahoo(\n",
    "            ticker=t,\n",
    "            path=os.path.join(stock_dir, f'{t}.csv'),\n",
    "            force=force,\n",
    "            start_dt=start_dt,\n",
    "            end_dt=end_dt,\n",
    "        )\n",
    "        if maybe_df is None:\n",
    "            skipped.append(t)\n",
    "    print(f'Skipped stocks as they already exist: {skipped}')\n",
    "\n",
    "\n",
    "def save_single_ticker_from_yahoo(ticker: str, path: str, force: str, start_dt: dt.date, end_dt: dt.date) -> Optional[pd.DataFrame]:\n",
    "    if os.path.exists(path) and not force:\n",
    "        return\n",
    "    try:\n",
    "        df = web.DataReader(\n",
    "            name=ticker,\n",
    "            data_source='yahoo',\n",
    "            start=start_dt,\n",
    "            end=end_dt,\n",
    "        )\n",
    "        df.to_csv(path)\n",
    "    except Exception as e:\n",
    "        print(ValueError(f'{ticker} failed to download, skipping'))\n",
    "    else:\n",
    "        return df"
   ]
  },
  {
   "cell_type": "code",
   "execution_count": 12,
   "metadata": {
    "scrolled": false
   },
   "outputs": [],
   "source": [
    "tickers = load_snp500_tickers(path=SNP_TICKERS_PATH, force=False)"
   ]
  },
  {
   "cell_type": "code",
   "execution_count": 19,
   "metadata": {},
   "outputs": [
    {
     "name": "stderr",
     "output_type": "stream",
     "text": [
      "/Users/visp/venvs/venv37/lib/python3.7/site-packages/ipykernel_launcher.py:27: TqdmDeprecationWarning: This function will be removed in tqdm==5.0.0\n",
      "Please use `tqdm.notebook.tqdm` instead of `tqdm.tqdm_notebook`\n"
     ]
    },
    {
     "data": {
      "application/vnd.jupyter.widget-view+json": {
       "model_id": "d9f23fb4b04540959ef4a2093a1c515d",
       "version_major": 2,
       "version_minor": 0
      },
      "text/plain": [
       "HBox(children=(FloatProgress(value=0.0, max=503.0), HTML(value='')))"
      ]
     },
     "metadata": {},
     "output_type": "display_data"
    },
    {
     "name": "stdout",
     "output_type": "stream",
     "text": [
      "BF.B failed to download, skipping\n",
      "BRK.B failed to download, skipping\n",
      "\n",
      "Skipped stocks as they already exist: ['A', 'AAL', 'AAP', 'AAPL', 'ABBV', 'ABC', 'ABMD', 'ABT', 'ACN', 'ADBE', 'ADI', 'ADM', 'ADP', 'ADS', 'ADSK', 'AEE', 'AEP', 'AES', 'AFL', 'AGN', 'AIG', 'AIV', 'AIZ', 'AJG', 'AKAM', 'ALB', 'ALGN', 'ALK', 'ALL', 'ALLE', 'ALXN', 'AMAT', 'AMCR', 'AMD', 'AME', 'AMGN', 'AMP', 'AMT', 'AMZN', 'ANET', 'ANSS', 'ANTM', 'AON', 'AOS', 'APA', 'APD', 'APH', 'APTV', 'ARE', 'ATO', 'ATVI', 'AVB', 'AVGO', 'AVY', 'AWK', 'AXP', 'AZO', 'BA', 'BAC', 'BAX', 'BBY', 'BDX', 'BEN', 'BF.B', 'BRK.B']\n"
     ]
    }
   ],
   "source": [
    "save_tickers_from_yahoo(\n",
    "    tickers=tickers,\n",
    "    stock_dir=STK_DIR,\n",
    "    force=False,\n",
    "    start_dt=START,\n",
    "    end_dt=END,\n",
    ")"
   ]
  },
  {
   "cell_type": "markdown",
   "metadata": {},
   "source": [
    "### Load saved stock data and combine dfs"
   ]
  },
  {
   "cell_type": "code",
   "execution_count": 25,
   "metadata": {},
   "outputs": [],
   "source": [
    "def combine_price_history(tickers: List[str], stock_dir: str) -> pd.DataFrame:\n",
    "    full_df = pd.DataFrame()\n",
    "    for t in tqdm_notebook(tickers):\n",
    "        try:\n",
    "            df = df_from_csv(path=os.path.join(stock_dir, f'{t}.csv'))\n",
    "        except Exception as e:\n",
    "            print(ValueError(f'Missing ticker {t}...'))\n",
    "        else:\n",
    "            df = df[['Adj Close']]\n",
    "            df.columns = [t]\n",
    "            if full_df.empty:\n",
    "                full_df = df\n",
    "            else:\n",
    "                full_df = full_df.join(df, how='outer')\n",
    "    return full_df"
   ]
  },
  {
   "cell_type": "code",
   "execution_count": 26,
   "metadata": {},
   "outputs": [
    {
     "name": "stderr",
     "output_type": "stream",
     "text": [
      "/Users/visp/venvs/venv37/lib/python3.7/site-packages/ipykernel_launcher.py:8: TqdmDeprecationWarning: This function will be removed in tqdm==5.0.0\n",
      "Please use `tqdm.notebook.tqdm` instead of `tqdm.tqdm_notebook`\n",
      "  \n"
     ]
    },
    {
     "data": {
      "application/vnd.jupyter.widget-view+json": {
       "model_id": "f9966a868d67461f821a45bf1e93e68f",
       "version_major": 2,
       "version_minor": 0
      },
      "text/plain": [
       "HBox(children=(FloatProgress(value=0.0, max=503.0), HTML(value='')))"
      ]
     },
     "metadata": {},
     "output_type": "display_data"
    },
    {
     "name": "stdout",
     "output_type": "stream",
     "text": [
      "Missing ticker BF.B...\n",
      "Missing ticker BRK.B...\n",
      "\n"
     ]
    }
   ],
   "source": [
    "df = combine_price_history(tickers=tickers, stock_dir=STK_DIR)"
   ]
  },
  {
   "cell_type": "code",
   "execution_count": 30,
   "metadata": {},
   "outputs": [
    {
     "data": {
      "text/plain": [
       "(5100, 501)"
      ]
     },
     "metadata": {},
     "output_type": "display_data"
    },
    {
     "data": {
      "text/html": [
       "<div>\n",
       "<style scoped>\n",
       "    .dataframe tbody tr th:only-of-type {\n",
       "        vertical-align: middle;\n",
       "    }\n",
       "\n",
       "    .dataframe tbody tr th {\n",
       "        vertical-align: top;\n",
       "    }\n",
       "\n",
       "    .dataframe thead th {\n",
       "        text-align: right;\n",
       "    }\n",
       "</style>\n",
       "<table border=\"1\" class=\"dataframe\">\n",
       "  <thead>\n",
       "    <tr style=\"text-align: right;\">\n",
       "      <th></th>\n",
       "      <th>A</th>\n",
       "      <th>AAL</th>\n",
       "      <th>AAP</th>\n",
       "      <th>AAPL</th>\n",
       "      <th>ABBV</th>\n",
       "      <th>ABC</th>\n",
       "      <th>ABMD</th>\n",
       "      <th>ABT</th>\n",
       "      <th>ACN</th>\n",
       "      <th>ADBE</th>\n",
       "      <th>...</th>\n",
       "      <th>XLNX</th>\n",
       "      <th>XOM</th>\n",
       "      <th>XRAY</th>\n",
       "      <th>XRX</th>\n",
       "      <th>XYL</th>\n",
       "      <th>YUM</th>\n",
       "      <th>ZBH</th>\n",
       "      <th>ZBRA</th>\n",
       "      <th>ZION</th>\n",
       "      <th>ZTS</th>\n",
       "    </tr>\n",
       "    <tr>\n",
       "      <th>Date</th>\n",
       "      <th></th>\n",
       "      <th></th>\n",
       "      <th></th>\n",
       "      <th></th>\n",
       "      <th></th>\n",
       "      <th></th>\n",
       "      <th></th>\n",
       "      <th></th>\n",
       "      <th></th>\n",
       "      <th></th>\n",
       "      <th></th>\n",
       "      <th></th>\n",
       "      <th></th>\n",
       "      <th></th>\n",
       "      <th></th>\n",
       "      <th></th>\n",
       "      <th></th>\n",
       "      <th></th>\n",
       "      <th></th>\n",
       "      <th></th>\n",
       "      <th></th>\n",
       "    </tr>\n",
       "  </thead>\n",
       "  <tbody>\n",
       "    <tr>\n",
       "      <th>2000-01-03</th>\n",
       "      <td>44.294170</td>\n",
       "      <td>NaN</td>\n",
       "      <td>NaN</td>\n",
       "      <td>3.470226</td>\n",
       "      <td>NaN</td>\n",
       "      <td>2.995721</td>\n",
       "      <td>18.25000</td>\n",
       "      <td>6.592210</td>\n",
       "      <td>NaN</td>\n",
       "      <td>16.274673</td>\n",
       "      <td>...</td>\n",
       "      <td>33.437664</td>\n",
       "      <td>21.549223</td>\n",
       "      <td>6.954667</td>\n",
       "      <td>51.922791</td>\n",
       "      <td>NaN</td>\n",
       "      <td>4.402331</td>\n",
       "      <td>NaN</td>\n",
       "      <td>25.027779</td>\n",
       "      <td>41.202934</td>\n",
       "      <td>NaN</td>\n",
       "    </tr>\n",
       "    <tr>\n",
       "      <th>2000-01-04</th>\n",
       "      <td>40.910591</td>\n",
       "      <td>NaN</td>\n",
       "      <td>NaN</td>\n",
       "      <td>3.177650</td>\n",
       "      <td>NaN</td>\n",
       "      <td>2.791193</td>\n",
       "      <td>17.81250</td>\n",
       "      <td>6.403859</td>\n",
       "      <td>NaN</td>\n",
       "      <td>14.909401</td>\n",
       "      <td>...</td>\n",
       "      <td>32.677715</td>\n",
       "      <td>21.136469</td>\n",
       "      <td>6.954667</td>\n",
       "      <td>49.507771</td>\n",
       "      <td>NaN</td>\n",
       "      <td>4.313842</td>\n",
       "      <td>NaN</td>\n",
       "      <td>24.666666</td>\n",
       "      <td>39.207741</td>\n",
       "      <td>NaN</td>\n",
       "    </tr>\n",
       "    <tr>\n",
       "      <th>2000-01-05</th>\n",
       "      <td>38.372894</td>\n",
       "      <td>NaN</td>\n",
       "      <td>NaN</td>\n",
       "      <td>3.224152</td>\n",
       "      <td>NaN</td>\n",
       "      <td>3.007750</td>\n",
       "      <td>18.00000</td>\n",
       "      <td>6.392088</td>\n",
       "      <td>NaN</td>\n",
       "      <td>15.204173</td>\n",
       "      <td>...</td>\n",
       "      <td>31.962463</td>\n",
       "      <td>22.288738</td>\n",
       "      <td>7.074894</td>\n",
       "      <td>52.056961</td>\n",
       "      <td>NaN</td>\n",
       "      <td>4.335964</td>\n",
       "      <td>NaN</td>\n",
       "      <td>25.138889</td>\n",
       "      <td>39.161343</td>\n",
       "      <td>NaN</td>\n",
       "    </tr>\n",
       "    <tr>\n",
       "      <th>2000-01-06</th>\n",
       "      <td>36.911816</td>\n",
       "      <td>NaN</td>\n",
       "      <td>NaN</td>\n",
       "      <td>2.945139</td>\n",
       "      <td>NaN</td>\n",
       "      <td>3.236340</td>\n",
       "      <td>18.03125</td>\n",
       "      <td>6.615753</td>\n",
       "      <td>NaN</td>\n",
       "      <td>15.328290</td>\n",
       "      <td>...</td>\n",
       "      <td>29.190891</td>\n",
       "      <td>23.441015</td>\n",
       "      <td>7.084142</td>\n",
       "      <td>50.983620</td>\n",
       "      <td>NaN</td>\n",
       "      <td>4.299095</td>\n",
       "      <td>NaN</td>\n",
       "      <td>23.777779</td>\n",
       "      <td>39.718132</td>\n",
       "      <td>NaN</td>\n",
       "    </tr>\n",
       "    <tr>\n",
       "      <th>2000-01-07</th>\n",
       "      <td>39.987797</td>\n",
       "      <td>NaN</td>\n",
       "      <td>NaN</td>\n",
       "      <td>3.084645</td>\n",
       "      <td>NaN</td>\n",
       "      <td>3.657427</td>\n",
       "      <td>17.93750</td>\n",
       "      <td>6.686383</td>\n",
       "      <td>NaN</td>\n",
       "      <td>16.072983</td>\n",
       "      <td>...</td>\n",
       "      <td>32.498898</td>\n",
       "      <td>23.372227</td>\n",
       "      <td>7.065648</td>\n",
       "      <td>52.191128</td>\n",
       "      <td>NaN</td>\n",
       "      <td>4.203231</td>\n",
       "      <td>NaN</td>\n",
       "      <td>23.513889</td>\n",
       "      <td>39.810936</td>\n",
       "      <td>NaN</td>\n",
       "    </tr>\n",
       "  </tbody>\n",
       "</table>\n",
       "<p>5 rows × 501 columns</p>\n",
       "</div>"
      ],
      "text/plain": [
       "                    A  AAL  AAP      AAPL  ABBV       ABC      ABMD       ABT  \\\n",
       "Date                                                                            \n",
       "2000-01-03  44.294170  NaN  NaN  3.470226   NaN  2.995721  18.25000  6.592210   \n",
       "2000-01-04  40.910591  NaN  NaN  3.177650   NaN  2.791193  17.81250  6.403859   \n",
       "2000-01-05  38.372894  NaN  NaN  3.224152   NaN  3.007750  18.00000  6.392088   \n",
       "2000-01-06  36.911816  NaN  NaN  2.945139   NaN  3.236340  18.03125  6.615753   \n",
       "2000-01-07  39.987797  NaN  NaN  3.084645   NaN  3.657427  17.93750  6.686383   \n",
       "\n",
       "            ACN       ADBE  ...       XLNX        XOM      XRAY        XRX  \\\n",
       "Date                        ...                                              \n",
       "2000-01-03  NaN  16.274673  ...  33.437664  21.549223  6.954667  51.922791   \n",
       "2000-01-04  NaN  14.909401  ...  32.677715  21.136469  6.954667  49.507771   \n",
       "2000-01-05  NaN  15.204173  ...  31.962463  22.288738  7.074894  52.056961   \n",
       "2000-01-06  NaN  15.328290  ...  29.190891  23.441015  7.084142  50.983620   \n",
       "2000-01-07  NaN  16.072983  ...  32.498898  23.372227  7.065648  52.191128   \n",
       "\n",
       "            XYL       YUM  ZBH       ZBRA       ZION  ZTS  \n",
       "Date                                                       \n",
       "2000-01-03  NaN  4.402331  NaN  25.027779  41.202934  NaN  \n",
       "2000-01-04  NaN  4.313842  NaN  24.666666  39.207741  NaN  \n",
       "2000-01-05  NaN  4.335964  NaN  25.138889  39.161343  NaN  \n",
       "2000-01-06  NaN  4.299095  NaN  23.777779  39.718132  NaN  \n",
       "2000-01-07  NaN  4.203231  NaN  23.513889  39.810936  NaN  \n",
       "\n",
       "[5 rows x 501 columns]"
      ]
     },
     "metadata": {},
     "output_type": "display_data"
    },
    {
     "name": "stdout",
     "output_type": "stream",
     "text": [
      "<class 'pandas.core.frame.DataFrame'>\n",
      "DatetimeIndex: 5100 entries, 2000-01-03 to 2020-04-09\n",
      "Columns: 501 entries, A to ZTS\n",
      "dtypes: float64(501)\n",
      "memory usage: 19.5 MB\n"
     ]
    }
   ],
   "source": [
    "display(df.shape)\n",
    "display(df.head())\n",
    "df.info()"
   ]
  },
  {
   "cell_type": "code",
   "execution_count": 33,
   "metadata": {},
   "outputs": [],
   "source": [
    "df.to_csv(PRICE_HIST_PATH)"
   ]
  },
  {
   "cell_type": "code",
   "execution_count": null,
   "metadata": {},
   "outputs": [],
   "source": []
  }
 ],
 "metadata": {
  "kernelspec": {
   "display_name": "Python 3",
   "language": "python",
   "name": "python3"
  },
  "language_info": {
   "codemirror_mode": {
    "name": "ipython",
    "version": 3
   },
   "file_extension": ".py",
   "mimetype": "text/x-python",
   "name": "python",
   "nbconvert_exporter": "python",
   "pygments_lexer": "ipython3",
   "version": "3.7.5"
  }
 },
 "nbformat": 4,
 "nbformat_minor": 2
}
